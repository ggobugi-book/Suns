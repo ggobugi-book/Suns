{
 "cells": [
  {
   "cell_type": "code",
   "execution_count": 1,
   "metadata": {},
   "outputs": [],
   "source": [
    "from collections import Counter\n",
    "from konlpy.tag import Kkma\n",
    "from konlpy.utils import pprint\n",
    "from konlpy.tag import Twitter\n",
    "from konlpy.tag import Komoran\n",
    "from gensim.models import word2vec\n",
    "import matplotlib.pyplot as plt\n",
    "import re"
   ]
  },
  {
   "cell_type": "code",
   "execution_count": 9,
   "metadata": {},
   "outputs": [],
   "source": [
    "file = open('./test.txt','r',encoding='utf-8')\n",
    "lines = file.read()\n",
    "\n",
    "sentences = re.split('(?<=[2-9]\\n)|(?<=[0-9][0-9]\\n)|(?<=[0-9][0-9][0-9]\\n)', lines)"
   ]
  },
  {
   "cell_type": "code",
   "execution_count": 10,
   "metadata": {},
   "outputs": [],
   "source": [
    "sent=[]\n",
    "for stuff in sentences:\n",
    "        sent.append(stuff)"
   ]
  },
  {
   "cell_type": "code",
   "execution_count": 11,
   "metadata": {},
   "outputs": [],
   "source": [
    "data = word2vec.LineSentence(result)\n",
    "model = word2vec.Word2Vec(data,\n",
    "        size=200,window=10,hs=1,min_count=2,sg=1)"
   ]
  },
  {
   "cell_type": "code",
   "execution_count": 12,
   "metadata": {},
   "outputs": [],
   "source": [
    "result = []\n",
    "for line in sent:\n",
    "    r = []\n",
    "    words = twitter.pos(line,norm=True)\n",
    "    for word in words:\n",
    "        if word[1] not in [\"Punctuation\",\"Eomi\",\"Josa\"]:\n",
    "            r.append(word[0])\n",
    "            result.append(\" \".join(r).strip())\n"
   ]
  },
  {
   "cell_type": "code",
   "execution_count": 19,
   "metadata": {},
   "outputs": [
    {
     "name": "stdout",
     "output_type": "stream",
     "text": [
      "호질 \n",
      "\n",
      "   범 착 효성 스러우며 문 채 도 싸움 잘 한다 인자 효성 스러우며 슬기롭고도 어질다 씩씩하고도 날래 며 세차 고도 사납다 그야말로 천하 대적 할 자가 없다 \n",
      " 그러나 비위 범 잡아먹고 범우 범 잡아 먹는다 박 駁 도 범 잡아먹고 오색 사자 큰 나무 선 산꼭대기 범 잡아먹는다 자백 범 잡아먹고 표견 날면서 범과 표범 잡아먹는다 황요 범과 표범 염통 꺼내어 먹는다 활 猾 은 범과 표범 일부러 삼켜졌다가 그 뱃속 간 뜯어 먹고 추이 酋耳 는 범 만나기만 하며 곧 찢어서 먹는다 범 맹용 만나면 눈 꼭 감고 감히 뜨지도 못 한다 그런데 사람 맹용 두려워하지 않으면서도 범 두려워 하니 범의 위풍 얼마나 엄한 \n",
      " 범 개 먹으면 취하 사람 먹으면 조화 부리 된다 범 한 번 사람 먹으면 그 창 귀가 굴각 屈閣 이 되어 범의 겨드랑이 붙어 산다 굴각 범 남 집 부엌 이끌어 들여서 솥전 핥으면 그 집주인 갑자기 배고픈 생각 나서 한밤중 아내 밥 지으라고 시키게 된다 범 두 번 째 사람 먹으련 그 창 귀가 이 올 彛兀 이 되어 범의 광대뼈 붙어 산다 이 올 은 높은 데 올라가서 사냥꾼 움직임 살피는데 만약 깊은 골짜기 함정 묻힌 화살 있으면 먼저 가서 그 틀 벗겨 놓는다 범 세번 째 사람 먹으면 그 창 귀가 육 혼 　渾 이 되어 범의 턱 붙어 산다 육 혼 자기 평소 알던 친구 들 이름 자꾸만 불러 댄다 \n",
      " 하루 범 창귀 들 분부 내렸다 오늘 해 저무니 어디서 먹을 것 얻을까 \n",
      " 굴각 이렇게 말 하였다 \n",
      " 제 아까 점 쳐 보았더니 뿔 있는 놈 아니고 날짐승 아닌 검은 머리 한 놈 나왔습니다 눈 위 발자국 있는데 비틀비틀 성 긴 걸음 이었습니다 뒤통수 꼬리 붙고 꽁무니 감추지 못 하는 놈이었습니다 \n",
      " 이 올 은 이렇게 말 하였다 \n",
      " 동문 東門 먹을 것 있는데 이름 의원 醫員 합니다 그 입 온갖 풀 먹음 어 살 고기 향기롭습니다 서문 먹을 것 있는데 이름 무당 합니다 그 온갖 귀신 아양 부리느라고 날 목욕 재계 하기 때문 고기 깨끗합니다 이 두 가지 가운데 골 잡수시지요 \n",
      " 범 수염 거 스르 얼굴빛 붉히면서 말 하였다 \n",
      " 의 醫 는 의 疑 다 자기 의심스러운 처방 가지 여러 사람 들 시험 해서 해마다 남 목숨 끊은 것 몇 만이 된다 무 巫 는 무 誣 다 귀신 속 인민 들 미혹 시켜 해마다 남 목숨 끊은 것 몇 만 이나 된다 그래서 뭇 사람 들 노여움 뼛속 스며들어 금잠 金蠶 화하였으니 독 있어서 먹을 수가 없다 \n",
      " 그러자 육 혼 이렇게 말 하였다 \n",
      " 저 숲속 어떤 고기 있는데 인자한 염통 의 쓸개 지녔습니다 충성 마음 간직 순결한 지조 품었으며 머리 악 樂 발 예 禮 를 신었습니다 입 백가 百家 의 말 외우며 마음속 만물 이치 통달 했으니 그 이름 석 덕 지유 碩德之儒 합니다 등 살이 오붓하고 몸집 기름져서 오 미 五味 를 갖추어 지녔습니다 \n",
      " 범 눈썹 치켜세우고 침 흘리다가 하늘 쳐다보고 웃으면서 \n",
      " 짐 더 듣고 싶으니 어떠하냐 \n",
      " 하였다 창귀 들 다투어서 범 추천 하였다 \n",
      " 일음 一陰 일 양 一陽 도 道 하는데 그 유 儒 가 이를 꿰뚫었습니다 오행 五行 이 서로 낳고 육 기 六氣 가 서로 조화 이루는데 그 유 儒 가 이를 이끌어 줍니다 그러니 먹는 것 가운데 이 것 더 맛있는 것 없습니다 \n",
      " 범 이 말 듣고는 문득 걱정 얼굴빛 달라지면서 반갑지 않은 말투 말 하였다 \n",
      " 음양 것 한 기운 죽고 사는 것 그 들 둘 나뉘었으니 그 고기 잡 될 것 오행 제 바탕 있어서 애 당초 서로 낳는 것 아니었는데 이제 그 들 구태여 자 子 모 母 로 가르고 심지어 짜고 신 맛 들여서 분해 하였으니 그 맛 순하지 못 할 육 기 六氣 도 제각기 행 하는 것 남 이끌어 주기 기다릴 것 없었는데 이제 그 들 망령 되게 재성 財成 보상 輔相 일 컬 으 며 사사롭게 자기 공 세우려고 한다 그러니 그런 고기 먹다가는 너무 딱딱해서 체 하 거나 구역질 나지 않겠느냐 \n",
      " 정 鄭 땅 어느 고을 벼슬 좋아하지 않는 선비 살 있었으니 북곽 선생 불렸다 나이 마흔 손수 교정 책 만 권 이 구경 九經 의 뜻 부연 해서 다시 지은 책 일만 오천 권 되었다 천자 그 의 義 를 아름답게 여기 제후 들 그 이름 사모 하였다 \n",
      " 그 고을 동쪽 아름다운 청춘 과부 살았는데 동 리자 이름 하였다 천자 그 절개 갸륵하 여기 제후 들 그 어진 마음 흠 모하 였다 그래서 그 고을 사방 몇 리 땅 봉하 동리 부지려 東里寡婦之閭 하였다 동 리자 이렇게 수절 잘 하는 과부 였지만 다섯 아들 둔 것 저 다른 성 지녔다 어느 날 밤 그 아들 다섯 놈 \n",
      "\n",
      " 강 북편 닭 울음소리 \n",
      " 강 남쪽 별 반짝 \n",
      " 방안 소리 나니 \n",
      " 모습 어찌 북곽 선생 아주 비슷한가 \n",
      "\n",
      " 하였다 형제 다섯 놈 번갈아 문틈 들여다보았다 동 리자 북곽 선생 \n",
      " 오랫동안 선생 덕 연모 하였습니다 오늘밤 선생님 글 읽으시는 음성 듣고 싶습니다 청 하였다 북곽 선생 옷깃 가다듬고 꿇어 앉아서 시를 읊었다 병풍 원앙새 있고 \n",
      " 반딧불 반짝 \n",
      " 가마솥 세 발솥 \n",
      " 무엇 본따서 만들었나 \n",
      " 흥겨워라 \n",
      "\n",
      " 다섯 아들 서로 이렇게 말 하였다 \n",
      " 예기 이르 기를 과부 집 문 함부로 들어서지 않는다 고 하였는데 북곽 선생 어진 이거든 그러니 이런 일이 없을거야 \n",
      " 내 들으니 이 고을 성문 헐어서 여우 구멍 내었다 고 하던데 \n",
      " 내 들으니 여우 천 년 묵으면 조화 부려 사람 흉내 낸다 고 하던데 그 놈 반드시 북곽 선생 흉내 낸 걸 \n",
      " 그 들 서로 이렇게 의논 하였다 \n",
      " 여우 갓 얻은 자는 천금 부자 되고 여우 신 얻은 자는 대낮 그림자 감출 수 있으며 여우 꼬리 얻은 자는 사랑 받아서 누구 그 좋아한다 고 하던데 우리 저 여우 잡아 죽 나누어 가지는 게 어떨까 \n",
      " 그래서 다섯 아이 들 한꺼 번 어머니 방 워 싸고 들이 쳤다 북곽 선생 크게 놀라서 달아났는데 남 들 혹시 제 얼굴 알아볼까 봐 걱정 되었다 그래서 한 다리 비 틀어 목덜미 얹고 도깨비 춤추며 도깨비 웃었다 문 밖 나가 뛰어가다가 그만 벌판 구덩이 빠졌다 그 속 똥 가득 차 있었다 간신히 붙잡고 올라와 목 내 밀고 바라보니 이번 범 길 가로막 있었다 \n",
      " 범 이 맛살 찌푸리며 구역질 하다가 코 막고 머리 왼쪽 돌리며 \n",
      " 이쿠 그 선비 구리구나 \n",
      " 하고\n"
     ]
    }
   ],
   "source": [
    "print(result[1000])"
   ]
  },
  {
   "cell_type": "code",
   "execution_count": 62,
   "metadata": {},
   "outputs": [],
   "source": [
    "# model.save(\"toji.model\")\n",
    "\n",
    "# model = word2vec.Word2Vec.load('toji.model')\n",
    "# things = model.most_similar(positive[\"집\"])\n",
    "\n",
    "print(list(model.wv.vocab.keys()))\n",
    "# print(things) "
   ]
  },
  {
   "cell_type": "code",
   "execution_count": 8,
   "metadata": {
    "scrolled": true
   },
   "outputs": [],
   "source": [
    "# stop_words=stop_words.split(' ')\n",
    "\n",
    "# result = []\n",
    "# for w in noun_adj_list:\n",
    "#     word_tokens = word_tokenize(w)\n",
    "#     if word_tokens not in stop_words:\n",
    "#         result.append(w)"
   ]
  },
  {
   "cell_type": "code",
   "execution_count": null,
   "metadata": {},
   "outputs": [],
   "source": [
    "model = word2vec.Word2Vec(data, size=200,window=10,hs=1,min_count=2,sg=1)\n"
   ]
  },
  {
   "cell_type": "code",
   "execution_count": null,
   "metadata": {},
   "outputs": [],
   "source": [
    "# window크기 5, 최소 출현수 2, skip-gram, 10000번 학습\n",
    "model = Word2Vec(noun_adj_list,window = 5,min_count=2,sg=1,iter=10000)\n",
    "\n",
    "print(list(model.wv.vocab.keys()))\n",
    "print(\"vocab length : %d\"%len(model.wv.vocab))\n",
    "\n",
    "print(model.wv.most_similar(\"범\"))"
   ]
  },
  {
   "cell_type": "code",
   "execution_count": null,
   "metadata": {},
   "outputs": [],
   "source": []
  }
 ],
 "metadata": {
  "kernelspec": {
   "display_name": "Python 3",
   "language": "python",
   "name": "python3"
  },
  "language_info": {
   "codemirror_mode": {
    "name": "ipython",
    "version": 3
   },
   "file_extension": ".py",
   "mimetype": "text/x-python",
   "name": "python",
   "nbconvert_exporter": "python",
   "pygments_lexer": "ipython3",
   "version": "3.7.5"
  }
 },
 "nbformat": 4,
 "nbformat_minor": 2
}
